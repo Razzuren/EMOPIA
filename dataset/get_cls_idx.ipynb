{
 "cells": [
  {
   "cell_type": "code",
   "execution_count": 2,
   "metadata": {},
   "outputs": [
    {
     "data": {
      "text/plain": [
       "True"
      ]
     },
     "execution_count": 2,
     "metadata": {},
     "output_type": "execute_result"
    }
   ],
   "source": [
    "import os\n",
    "import numpy as np\n",
    "path_data_root = 'where you put the data'\n",
    "train_data_name = 'name of your processed train data'\n",
    "path_train_data = os.path.join(path_data_root,  train_data_name + '.npz')\n",
    "os.path.exists(path_train_data)"
   ]
  },
  {
   "cell_type": "code",
   "execution_count": 2,
   "metadata": {},
   "outputs": [],
   "source": [
    "train_data = np.load(path_train_data)\n",
    "train_x = train_data['x']"
   ]
  },
  {
   "cell_type": "code",
   "execution_count": 3,
   "metadata": {},
   "outputs": [],
   "source": [
    "class_1_idx = []\n",
    "class_2_idx = []\n",
    "class_3_idx = []\n",
    "class_4_idx = []\n",
    "idxs = [class_1_idx, class_2_idx, class_3_idx, class_4_idx]\n",
    "for i, sample in enumerate(train_x):\n",
    "    idxs[sample[0][-1] - 1].append(i)"
   ]
  },
  {
   "cell_type": "code",
   "execution_count": 4,
   "metadata": {},
   "outputs": [
    {
     "data": {
      "text/plain": [
       "[2, 7, 13, 19, 32, 41, 50, 52, 64, 66]"
      ]
     },
     "execution_count": 4,
     "metadata": {},
     "output_type": "execute_result"
    }
   ],
   "source": [
    "class_1_idx[:10]"
   ]
  },
  {
   "cell_type": "code",
   "execution_count": 5,
   "metadata": {},
   "outputs": [],
   "source": [
    "cls_1 = train_x[class_1_idx]"
   ]
  },
  {
   "cell_type": "code",
   "execution_count": 6,
   "metadata": {},
   "outputs": [
    {
     "data": {
      "text/plain": [
       "1"
      ]
     },
     "execution_count": 6,
     "metadata": {},
     "output_type": "execute_result"
    }
   ],
   "source": [
    "cls_1[0][0][-1]"
   ]
  },
  {
   "cell_type": "code",
   "execution_count": 7,
   "metadata": {},
   "outputs": [],
   "source": [
    "path_train = os.path.join(path_data_root, train_data_name + '_data_idx.npz')\n",
    "np.savez(\n",
    "        path_train, \n",
    "        cls_1_idx=class_1_idx,\n",
    "        cls_2_idx=class_2_idx,\n",
    "        cls_3_idx=class_3_idx,\n",
    "        cls_4_idx=class_4_idx\n",
    "    )\n",
    "   "
   ]
  },
  {
   "cell_type": "code",
   "execution_count": null,
   "metadata": {},
   "outputs": [],
   "source": []
  }
 ],
 "metadata": {
  "kernelspec": {
   "display_name": "Python 3 (ipykernel)",
   "language": "python",
   "name": "python3"
  },
  "language_info": {
   "codemirror_mode": {
    "name": "ipython",
    "version": 3
   },
   "file_extension": ".py",
   "mimetype": "text/x-python",
   "name": "python",
   "nbconvert_exporter": "python",
   "pygments_lexer": "ipython3",
   "version": "3.7.3"
  }
 },
 "nbformat": 4,
 "nbformat_minor": 5
}
