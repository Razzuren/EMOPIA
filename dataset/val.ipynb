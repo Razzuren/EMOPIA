{
 "cells": [
  {
   "cell_type": "code",
   "execution_count": 1,
   "metadata": {},
   "outputs": [],
   "source": [
    "import pandas as pd"
   ]
  },
  {
   "cell_type": "code",
   "execution_count": 2,
   "metadata": {},
   "outputs": [
    {
     "name": "stdout",
     "output_type": "stream",
     "text": [
      "(391, 6)\n"
     ]
    },
    {
     "data": {
      "text/html": [
       "<div>\n",
       "<style scoped>\n",
       "    .dataframe tbody tr th:only-of-type {\n",
       "        vertical-align: middle;\n",
       "    }\n",
       "\n",
       "    .dataframe tbody tr th {\n",
       "        vertical-align: top;\n",
       "    }\n",
       "\n",
       "    .dataframe thead th {\n",
       "        text-align: right;\n",
       "    }\n",
       "</style>\n",
       "<table border=\"1\" class=\"dataframe\">\n",
       "  <thead>\n",
       "    <tr style=\"text-align: right;\">\n",
       "      <th></th>\n",
       "      <th>songID</th>\n",
       "      <th>num_Q1</th>\n",
       "      <th>num_Q2</th>\n",
       "      <th>num_Q3</th>\n",
       "      <th>num_Q4</th>\n",
       "      <th>DominantQ</th>\n",
       "    </tr>\n",
       "  </thead>\n",
       "  <tbody>\n",
       "    <tr>\n",
       "      <th>0</th>\n",
       "      <td>FyK_c-TIcCA</td>\n",
       "      <td>0</td>\n",
       "      <td>0</td>\n",
       "      <td>0</td>\n",
       "      <td>3</td>\n",
       "      <td>4</td>\n",
       "    </tr>\n",
       "    <tr>\n",
       "      <th>1</th>\n",
       "      <td>7gifuoofgpk</td>\n",
       "      <td>0</td>\n",
       "      <td>0</td>\n",
       "      <td>0</td>\n",
       "      <td>2</td>\n",
       "      <td>4</td>\n",
       "    </tr>\n",
       "    <tr>\n",
       "      <th>2</th>\n",
       "      <td>12tDlCQVRtA</td>\n",
       "      <td>0</td>\n",
       "      <td>0</td>\n",
       "      <td>0</td>\n",
       "      <td>3</td>\n",
       "      <td>4</td>\n",
       "    </tr>\n",
       "    <tr>\n",
       "      <th>3</th>\n",
       "      <td>2Z9SjI131jA_</td>\n",
       "      <td>6</td>\n",
       "      <td>0</td>\n",
       "      <td>0</td>\n",
       "      <td>0</td>\n",
       "      <td>1</td>\n",
       "    </tr>\n",
       "    <tr>\n",
       "      <th>4</th>\n",
       "      <td>Tc684nD8CEA</td>\n",
       "      <td>0</td>\n",
       "      <td>0</td>\n",
       "      <td>0</td>\n",
       "      <td>5</td>\n",
       "      <td>4</td>\n",
       "    </tr>\n",
       "  </tbody>\n",
       "</table>\n",
       "</div>"
      ],
      "text/plain": [
       "         songID  num_Q1  num_Q2  num_Q3  num_Q4  DominantQ\n",
       "0   FyK_c-TIcCA       0       0       0       3          4\n",
       "1   7gifuoofgpk       0       0       0       2          4\n",
       "2   12tDlCQVRtA       0       0       0       3          4\n",
       "3  2Z9SjI131jA_       6       0       0       0          1\n",
       "4   Tc684nD8CEA       0       0       0       5          4"
      ]
     },
     "execution_count": 2,
     "metadata": {},
     "output_type": "execute_result"
    }
   ],
   "source": [
    "src_csv = 'metadata_by_song.csv'\n",
    "data = pd.read_csv(src_csv)\n",
    "print(data.shape)\n",
    "data.head()"
   ]
  },
  {
   "cell_type": "code",
   "execution_count": 4,
   "metadata": {},
   "outputs": [],
   "source": [
    "Q1 = data[data['DominantQ'] == 1]\n",
    "Q2 = data[data['DominantQ'] == 2]\n",
    "Q3 = data[data['DominantQ'] == 3]\n",
    "Q4 = data[data['DominantQ'] == 4]\n"
   ]
  },
  {
   "cell_type": "code",
   "execution_count": 10,
   "metadata": {},
   "outputs": [],
   "source": [
    "sample_Q1 = Q1.sample(10)"
   ]
  },
  {
   "cell_type": "code",
   "execution_count": 11,
   "metadata": {},
   "outputs": [
    {
     "data": {
      "text/plain": [
       "songID       FfwKrQyQ7WUmiqLU2739dkeVMSeElk81QsZe3IB1OVfwpN...\n",
       "num_Q1                                                      25\n",
       "num_Q2                                                       1\n",
       "num_Q3                                                       0\n",
       "num_Q4                                                       3\n",
       "DominantQ                                                   10\n",
       "dtype: object"
      ]
     },
     "execution_count": 11,
     "metadata": {},
     "output_type": "execute_result"
    }
   ],
   "source": [
    "sample_Q1.sum(axis = 0)"
   ]
  },
  {
   "cell_type": "code",
   "execution_count": 32,
   "metadata": {},
   "outputs": [],
   "source": [
    "sample_Q1.to_csv('val_Q1.csv', index = False)"
   ]
  },
  {
   "cell_type": "code",
   "execution_count": 12,
   "metadata": {},
   "outputs": [
    {
     "data": {
      "text/plain": [
       "songID       8TYY0qG-KOw5NW0zDu6IYM3_MxhSS86oUivCNV47tsRwP-...\n",
       "num_Q1                                                       1\n",
       "num_Q2                                                      25\n",
       "num_Q3                                                       2\n",
       "num_Q4                                                       1\n",
       "DominantQ                                                   20\n",
       "dtype: object"
      ]
     },
     "execution_count": 12,
     "metadata": {},
     "output_type": "execute_result"
    }
   ],
   "source": [
    "sample_Q2 = Q2.sample(10)\n",
    "sample_Q2.sum(axis = 0)"
   ]
  },
  {
   "cell_type": "code",
   "execution_count": 33,
   "metadata": {},
   "outputs": [],
   "source": [
    "sample_Q2.to_csv('val_Q2.csv', index = False)"
   ]
  },
  {
   "cell_type": "code",
   "execution_count": 30,
   "metadata": {},
   "outputs": [
    {
     "data": {
      "text/plain": [
       "songID       MbvPxCUMSekiRu9KQvbtVwRL_cmmNVLfsfnqb8zqHqdYH6...\n",
       "num_Q1                                                       1\n",
       "num_Q2                                                       1\n",
       "num_Q3                                                      24\n",
       "num_Q4                                                       1\n",
       "DominantQ                                                   30\n",
       "dtype: object"
      ]
     },
     "execution_count": 30,
     "metadata": {},
     "output_type": "execute_result"
    }
   ],
   "source": [
    "sample_Q3 = Q3.sample(10)\n",
    "sample_Q3.sum(axis = 0)"
   ]
  },
  {
   "cell_type": "code",
   "execution_count": 34,
   "metadata": {},
   "outputs": [],
   "source": [
    "sample_Q3.to_csv('val_Q3.csv', index = False)"
   ]
  },
  {
   "cell_type": "code",
   "execution_count": 173,
   "metadata": {},
   "outputs": [
    {
     "data": {
      "text/plain": [
       "songID       mGYKWCVnMwQr_sD61KeUQUbiROWEwkDQQIgpNyJVWcBoFy...\n",
       "num_Q1                                                       1\n",
       "num_Q2                                                       0\n",
       "num_Q3                                                       0\n",
       "num_Q4                                                      21\n",
       "DominantQ                                                   40\n",
       "dtype: object"
      ]
     },
     "execution_count": 173,
     "metadata": {},
     "output_type": "execute_result"
    }
   ],
   "source": [
    "sample_Q4 = Q4.sample(10)\n",
    "sample_Q4.sum(axis = 0)"
   ]
  },
  {
   "cell_type": "code",
   "execution_count": 176,
   "metadata": {},
   "outputs": [],
   "source": [
    "sample_Q4.to_csv('val_Q4_small.csv', index = False)"
   ]
  },
  {
   "cell_type": "code",
   "execution_count": null,
   "metadata": {},
   "outputs": [],
   "source": []
  },
  {
   "cell_type": "code",
   "execution_count": null,
   "metadata": {},
   "outputs": [],
   "source": []
  },
  {
   "cell_type": "code",
   "execution_count": 36,
   "metadata": {},
   "outputs": [
    {
     "data": {
      "text/plain": [
       "songID       FfwKrQyQ7WUmiqLU2739dkeVMSeElk81QsZe3IB1OVfwpN...\n",
       "num_Q1                                                      25\n",
       "num_Q2                                                       1\n",
       "num_Q3                                                       0\n",
       "num_Q4                                                       3\n",
       "DominantQ                                                   10\n",
       "dtype: object"
      ]
     },
     "execution_count": 36,
     "metadata": {},
     "output_type": "execute_result"
    }
   ],
   "source": [
    "sample_Q1.sum(axis=0)"
   ]
  },
  {
   "cell_type": "code",
   "execution_count": 37,
   "metadata": {},
   "outputs": [
    {
     "data": {
      "text/plain": [
       "songID       8TYY0qG-KOw5NW0zDu6IYM3_MxhSS86oUivCNV47tsRwP-...\n",
       "num_Q1                                                       1\n",
       "num_Q2                                                      25\n",
       "num_Q3                                                       2\n",
       "num_Q4                                                       1\n",
       "DominantQ                                                   20\n",
       "dtype: object"
      ]
     },
     "execution_count": 37,
     "metadata": {},
     "output_type": "execute_result"
    }
   ],
   "source": [
    "sample_Q2.sum(axis=0)"
   ]
  },
  {
   "cell_type": "code",
   "execution_count": 38,
   "metadata": {},
   "outputs": [
    {
     "data": {
      "text/plain": [
       "songID       MbvPxCUMSekiRu9KQvbtVwRL_cmmNVLfsfnqb8zqHqdYH6...\n",
       "num_Q1                                                       1\n",
       "num_Q2                                                       1\n",
       "num_Q3                                                      24\n",
       "num_Q4                                                       1\n",
       "DominantQ                                                   30\n",
       "dtype: object"
      ]
     },
     "execution_count": 38,
     "metadata": {},
     "output_type": "execute_result"
    }
   ],
   "source": [
    "sample_Q3.sum(axis=0)"
   ]
  },
  {
   "cell_type": "code",
   "execution_count": 39,
   "metadata": {},
   "outputs": [
    {
     "data": {
      "text/plain": [
       "songID       9eMxCs-LXCEvJ77eDxHezEQ49PWE0RJLYGAvPwG2wYZMhe...\n",
       "num_Q1                                                       0\n",
       "num_Q2                                                       0\n",
       "num_Q3                                                       1\n",
       "num_Q4                                                      25\n",
       "DominantQ                                                   40\n",
       "dtype: object"
      ]
     },
     "execution_count": 39,
     "metadata": {},
     "output_type": "execute_result"
    }
   ],
   "source": [
    "sample_Q4.sum(axis=0)"
   ]
  },
  {
   "cell_type": "code",
   "execution_count": 174,
   "metadata": {},
   "outputs": [],
   "source": [
    "val_data = pd.concat([sample_Q1, sample_Q2, sample_Q3, sample_Q4], ignore_index = True)"
   ]
  },
  {
   "cell_type": "code",
   "execution_count": 177,
   "metadata": {},
   "outputs": [
    {
     "data": {
      "text/plain": [
       "songID       FfwKrQyQ7WUmiqLU2739dkeVMSeElk81QsZe3IB1OVfwpN...\n",
       "num_Q1                                                      28\n",
       "num_Q2                                                      27\n",
       "num_Q3                                                      26\n",
       "num_Q4                                                      26\n",
       "DominantQ                                                  100\n",
       "dtype: object"
      ]
     },
     "execution_count": 177,
     "metadata": {},
     "output_type": "execute_result"
    }
   ],
   "source": [
    "val_data.sum(axis = 0)"
   ]
  },
  {
   "cell_type": "code",
   "execution_count": 178,
   "metadata": {},
   "outputs": [],
   "source": [
    "val_data.to_csv('val_songs_2.csv', index = False)"
   ]
  },
  {
   "cell_type": "code",
   "execution_count": 46,
   "metadata": {},
   "outputs": [
    {
     "data": {
      "text/plain": [
       "0.108"
      ]
     },
     "execution_count": 46,
     "metadata": {},
     "output_type": "execute_result"
    }
   ],
   "source": [
    "27/250"
   ]
  },
  {
   "cell_type": "code",
   "execution_count": 47,
   "metadata": {},
   "outputs": [
    {
     "data": {
      "text/plain": [
       "0.1018867924528302"
      ]
     },
     "execution_count": 47,
     "metadata": {},
     "output_type": "execute_result"
    }
   ],
   "source": [
    "27/265"
   ]
  },
  {
   "cell_type": "code",
   "execution_count": 48,
   "metadata": {},
   "outputs": [
    {
     "data": {
      "text/plain": [
       "0.1067193675889328"
      ]
     },
     "execution_count": 48,
     "metadata": {},
     "output_type": "execute_result"
    }
   ],
   "source": [
    "27/253"
   ]
  },
  {
   "cell_type": "code",
   "execution_count": 49,
   "metadata": {},
   "outputs": [
    {
     "data": {
      "text/plain": [
       "0.0967741935483871"
      ]
     },
     "execution_count": 49,
     "metadata": {},
     "output_type": "execute_result"
    }
   ],
   "source": [
    "30/310"
   ]
  },
  {
   "cell_type": "code",
   "execution_count": null,
   "metadata": {},
   "outputs": [],
   "source": []
  },
  {
   "cell_type": "code",
   "execution_count": null,
   "metadata": {},
   "outputs": [],
   "source": []
  },
  {
   "cell_type": "code",
   "execution_count": 179,
   "metadata": {},
   "outputs": [
    {
     "data": {
      "text/html": [
       "<div>\n",
       "<style scoped>\n",
       "    .dataframe tbody tr th:only-of-type {\n",
       "        vertical-align: middle;\n",
       "    }\n",
       "\n",
       "    .dataframe tbody tr th {\n",
       "        vertical-align: top;\n",
       "    }\n",
       "\n",
       "    .dataframe thead th {\n",
       "        text-align: right;\n",
       "    }\n",
       "</style>\n",
       "<table border=\"1\" class=\"dataframe\">\n",
       "  <thead>\n",
       "    <tr style=\"text-align: right;\">\n",
       "      <th></th>\n",
       "      <th>songID</th>\n",
       "      <th>num_Q1</th>\n",
       "      <th>num_Q2</th>\n",
       "      <th>num_Q3</th>\n",
       "      <th>num_Q4</th>\n",
       "      <th>DominantQ</th>\n",
       "    </tr>\n",
       "  </thead>\n",
       "  <tbody>\n",
       "    <tr>\n",
       "      <th>0</th>\n",
       "      <td>FfwKrQyQ7WU</td>\n",
       "      <td>4</td>\n",
       "      <td>0</td>\n",
       "      <td>0</td>\n",
       "      <td>0</td>\n",
       "      <td>1</td>\n",
       "    </tr>\n",
       "    <tr>\n",
       "      <th>1</th>\n",
       "      <td>miqLU2739dk</td>\n",
       "      <td>1</td>\n",
       "      <td>1</td>\n",
       "      <td>0</td>\n",
       "      <td>0</td>\n",
       "      <td>1</td>\n",
       "    </tr>\n",
       "    <tr>\n",
       "      <th>2</th>\n",
       "      <td>eVMSeElk81Q</td>\n",
       "      <td>3</td>\n",
       "      <td>0</td>\n",
       "      <td>0</td>\n",
       "      <td>0</td>\n",
       "      <td>1</td>\n",
       "    </tr>\n",
       "    <tr>\n",
       "      <th>3</th>\n",
       "      <td>sZe3IB1OVfw</td>\n",
       "      <td>2</td>\n",
       "      <td>0</td>\n",
       "      <td>0</td>\n",
       "      <td>0</td>\n",
       "      <td>1</td>\n",
       "    </tr>\n",
       "    <tr>\n",
       "      <th>4</th>\n",
       "      <td>pNwQ9Tu_bCs</td>\n",
       "      <td>3</td>\n",
       "      <td>0</td>\n",
       "      <td>0</td>\n",
       "      <td>0</td>\n",
       "      <td>1</td>\n",
       "    </tr>\n",
       "  </tbody>\n",
       "</table>\n",
       "</div>"
      ],
      "text/plain": [
       "        songID  num_Q1  num_Q2  num_Q3  num_Q4  DominantQ\n",
       "0  FfwKrQyQ7WU       4       0       0       0          1\n",
       "1  miqLU2739dk       1       1       0       0          1\n",
       "2  eVMSeElk81Q       3       0       0       0          1\n",
       "3  sZe3IB1OVfw       2       0       0       0          1\n",
       "4  pNwQ9Tu_bCs       3       0       0       0          1"
      ]
     },
     "execution_count": 179,
     "metadata": {},
     "output_type": "execute_result"
    }
   ],
   "source": [
    "val_csv = 'val_songs_2.csv'\n",
    "val_data = pd.read_csv(val_csv)\n",
    "val_data.head()"
   ]
  },
  {
   "cell_type": "code",
   "execution_count": 180,
   "metadata": {},
   "outputs": [
    {
     "data": {
      "text/html": [
       "<div>\n",
       "<style scoped>\n",
       "    .dataframe tbody tr th:only-of-type {\n",
       "        vertical-align: middle;\n",
       "    }\n",
       "\n",
       "    .dataframe tbody tr th {\n",
       "        vertical-align: top;\n",
       "    }\n",
       "\n",
       "    .dataframe thead th {\n",
       "        text-align: right;\n",
       "    }\n",
       "</style>\n",
       "<table border=\"1\" class=\"dataframe\">\n",
       "  <thead>\n",
       "    <tr style=\"text-align: right;\">\n",
       "      <th></th>\n",
       "      <th>ID</th>\n",
       "      <th>4Q</th>\n",
       "      <th>annotator</th>\n",
       "      <th>songID</th>\n",
       "      <th>clip</th>\n",
       "    </tr>\n",
       "  </thead>\n",
       "  <tbody>\n",
       "    <tr>\n",
       "      <th>0</th>\n",
       "      <td>Q1_0vLPYiPN7qY_0</td>\n",
       "      <td>1</td>\n",
       "      <td>D</td>\n",
       "      <td>0vLPYiPN7qY</td>\n",
       "      <td>0</td>\n",
       "    </tr>\n",
       "    <tr>\n",
       "      <th>1</th>\n",
       "      <td>Q1_0vLPYiPN7qY_1</td>\n",
       "      <td>1</td>\n",
       "      <td>D</td>\n",
       "      <td>0vLPYiPN7qY</td>\n",
       "      <td>1</td>\n",
       "    </tr>\n",
       "    <tr>\n",
       "      <th>2</th>\n",
       "      <td>Q1_0vLPYiPN7qY_2</td>\n",
       "      <td>1</td>\n",
       "      <td>D</td>\n",
       "      <td>0vLPYiPN7qY</td>\n",
       "      <td>2</td>\n",
       "    </tr>\n",
       "    <tr>\n",
       "      <th>3</th>\n",
       "      <td>Q1_1Qc15G0ZHIg_1</td>\n",
       "      <td>1</td>\n",
       "      <td>D</td>\n",
       "      <td>1Qc15G0ZHIg</td>\n",
       "      <td>1</td>\n",
       "    </tr>\n",
       "    <tr>\n",
       "      <th>4</th>\n",
       "      <td>Q1_1Qc15G0ZHIg_2</td>\n",
       "      <td>1</td>\n",
       "      <td>D</td>\n",
       "      <td>1Qc15G0ZHIg</td>\n",
       "      <td>2</td>\n",
       "    </tr>\n",
       "  </tbody>\n",
       "</table>\n",
       "</div>"
      ],
      "text/plain": [
       "                 ID  4Q annotator       songID clip\n",
       "0  Q1_0vLPYiPN7qY_0   1         D  0vLPYiPN7qY    0\n",
       "1  Q1_0vLPYiPN7qY_1   1         D  0vLPYiPN7qY    1\n",
       "2  Q1_0vLPYiPN7qY_2   1         D  0vLPYiPN7qY    2\n",
       "3  Q1_1Qc15G0ZHIg_1   1         D  1Qc15G0ZHIg    1\n",
       "4  Q1_1Qc15G0ZHIg_2   1         D  1Qc15G0ZHIg    2"
      ]
     },
     "execution_count": 180,
     "metadata": {},
     "output_type": "execute_result"
    }
   ],
   "source": [
    "all_csv = 'metadata.csv'\n",
    "all_data = pd.read_csv(all_csv)\n",
    "def _clean(ID):\n",
    "    return ID[3:-2] + '.' + ID[-1]\n",
    "\n",
    "def _turnback(ID, Q):\n",
    "    return 'Q' + str(Q) + '_' + ID[:-2] + '_' + ID[-1]\n",
    "\n",
    "all_data['ID'] = all_data.apply(lambda x:_clean(x.ID), axis = 1)\n",
    "all_data[['songID','clip']] = all_data.ID.str.split(\".\",expand=True)\n",
    "all_data_rename = all_data.rename(columns={'4Q': 'Q'})\n",
    "all_data['ID'] = all_data_rename.apply(lambda x:_turnback(x.ID, x.Q), axis = 1)\n",
    "all_data.head()"
   ]
  },
  {
   "cell_type": "code",
   "execution_count": 181,
   "metadata": {},
   "outputs": [],
   "source": [
    "songlist = val_data['songID'].to_list()"
   ]
  },
  {
   "cell_type": "code",
   "execution_count": 182,
   "metadata": {},
   "outputs": [],
   "source": [
    "val_datas = all_data[all_data['songID'].isin(songlist)]"
   ]
  },
  {
   "cell_type": "code",
   "execution_count": 183,
   "metadata": {},
   "outputs": [],
   "source": [
    "val_files = val_datas['ID'].to_list()"
   ]
  },
  {
   "cell_type": "code",
   "execution_count": 184,
   "metadata": {},
   "outputs": [],
   "source": [
    "import json\n",
    "filename = 'validation_songs_2.json'\n",
    "with open(filename, 'w') as f:\n",
    "    json.dump(val_files, f)"
   ]
  },
  {
   "cell_type": "code",
   "execution_count": null,
   "metadata": {},
   "outputs": [],
   "source": []
  },
  {
   "cell_type": "code",
   "execution_count": null,
   "metadata": {},
   "outputs": [],
   "source": []
  },
  {
   "cell_type": "markdown",
   "metadata": {},
   "source": [
    "# Statistics for val set"
   ]
  },
  {
   "cell_type": "code",
   "execution_count": 185,
   "metadata": {},
   "outputs": [],
   "source": [
    "with open('./representations/valid_fn2idx_map_2.json') as f:\n",
    "    files = json.load(f)"
   ]
  },
  {
   "cell_type": "code",
   "execution_count": 186,
   "metadata": {},
   "outputs": [],
   "source": [
    "dd = {'vals' :list(files['fn2idx'].keys())}\n",
    "vals = pd.DataFrame(dd)"
   ]
  },
  {
   "cell_type": "code",
   "execution_count": 187,
   "metadata": {},
   "outputs": [],
   "source": [
    "def _clean(ID):\n",
    "    return ID[1] + '.' + ID[3:-2]\n",
    "\n",
    "vals['vals'] = vals.apply(lambda x:_clean(x.vals), axis = 1)"
   ]
  },
  {
   "cell_type": "code",
   "execution_count": 188,
   "metadata": {},
   "outputs": [
    {
     "data": {
      "text/html": [
       "<div>\n",
       "<style scoped>\n",
       "    .dataframe tbody tr th:only-of-type {\n",
       "        vertical-align: middle;\n",
       "    }\n",
       "\n",
       "    .dataframe tbody tr th {\n",
       "        vertical-align: top;\n",
       "    }\n",
       "\n",
       "    .dataframe thead th {\n",
       "        text-align: right;\n",
       "    }\n",
       "</style>\n",
       "<table border=\"1\" class=\"dataframe\">\n",
       "  <thead>\n",
       "    <tr style=\"text-align: right;\">\n",
       "      <th></th>\n",
       "      <th>vals</th>\n",
       "    </tr>\n",
       "  </thead>\n",
       "  <tbody>\n",
       "    <tr>\n",
       "      <th>0</th>\n",
       "      <td>1.5NW0zDu6IYM</td>\n",
       "    </tr>\n",
       "    <tr>\n",
       "      <th>1</th>\n",
       "      <td>1._8v0MFBZoco</td>\n",
       "    </tr>\n",
       "    <tr>\n",
       "      <th>2</th>\n",
       "      <td>3.ijfxkQPAQdE</td>\n",
       "    </tr>\n",
       "    <tr>\n",
       "      <th>3</th>\n",
       "      <td>2.ijfxkQPAQdE</td>\n",
       "    </tr>\n",
       "    <tr>\n",
       "      <th>4</th>\n",
       "      <td>2.ivCNV47tsRw</td>\n",
       "    </tr>\n",
       "  </tbody>\n",
       "</table>\n",
       "</div>"
      ],
      "text/plain": [
       "            vals\n",
       "0  1.5NW0zDu6IYM\n",
       "1  1._8v0MFBZoco\n",
       "2  3.ijfxkQPAQdE\n",
       "3  2.ijfxkQPAQdE\n",
       "4  2.ivCNV47tsRw"
      ]
     },
     "execution_count": 188,
     "metadata": {},
     "output_type": "execute_result"
    }
   ],
   "source": [
    "vals.head()"
   ]
  },
  {
   "cell_type": "code",
   "execution_count": 189,
   "metadata": {},
   "outputs": [],
   "source": [
    "vals[['Q','songID']] = vals.vals.str.split(\".\",expand=True)"
   ]
  },
  {
   "cell_type": "code",
   "execution_count": 190,
   "metadata": {},
   "outputs": [
    {
     "data": {
      "text/html": [
       "<div>\n",
       "<style scoped>\n",
       "    .dataframe tbody tr th:only-of-type {\n",
       "        vertical-align: middle;\n",
       "    }\n",
       "\n",
       "    .dataframe tbody tr th {\n",
       "        vertical-align: top;\n",
       "    }\n",
       "\n",
       "    .dataframe thead th {\n",
       "        text-align: right;\n",
       "    }\n",
       "</style>\n",
       "<table border=\"1\" class=\"dataframe\">\n",
       "  <thead>\n",
       "    <tr style=\"text-align: right;\">\n",
       "      <th></th>\n",
       "      <th>vals</th>\n",
       "      <th>Q</th>\n",
       "      <th>songID</th>\n",
       "    </tr>\n",
       "  </thead>\n",
       "  <tbody>\n",
       "    <tr>\n",
       "      <th>0</th>\n",
       "      <td>1.5NW0zDu6IYM</td>\n",
       "      <td>1</td>\n",
       "      <td>5NW0zDu6IYM</td>\n",
       "    </tr>\n",
       "    <tr>\n",
       "      <th>1</th>\n",
       "      <td>1._8v0MFBZoco</td>\n",
       "      <td>1</td>\n",
       "      <td>_8v0MFBZoco</td>\n",
       "    </tr>\n",
       "    <tr>\n",
       "      <th>2</th>\n",
       "      <td>3.ijfxkQPAQdE</td>\n",
       "      <td>3</td>\n",
       "      <td>ijfxkQPAQdE</td>\n",
       "    </tr>\n",
       "    <tr>\n",
       "      <th>3</th>\n",
       "      <td>2.ijfxkQPAQdE</td>\n",
       "      <td>2</td>\n",
       "      <td>ijfxkQPAQdE</td>\n",
       "    </tr>\n",
       "    <tr>\n",
       "      <th>4</th>\n",
       "      <td>2.ivCNV47tsRw</td>\n",
       "      <td>2</td>\n",
       "      <td>ivCNV47tsRw</td>\n",
       "    </tr>\n",
       "  </tbody>\n",
       "</table>\n",
       "</div>"
      ],
      "text/plain": [
       "            vals  Q       songID\n",
       "0  1.5NW0zDu6IYM  1  5NW0zDu6IYM\n",
       "1  1._8v0MFBZoco  1  _8v0MFBZoco\n",
       "2  3.ijfxkQPAQdE  3  ijfxkQPAQdE\n",
       "3  2.ijfxkQPAQdE  2  ijfxkQPAQdE\n",
       "4  2.ivCNV47tsRw  2  ivCNV47tsRw"
      ]
     },
     "execution_count": 190,
     "metadata": {},
     "output_type": "execute_result"
    }
   ],
   "source": [
    "vals.head()"
   ]
  },
  {
   "cell_type": "code",
   "execution_count": null,
   "metadata": {},
   "outputs": [],
   "source": []
  },
  {
   "cell_type": "code",
   "execution_count": 191,
   "metadata": {},
   "outputs": [],
   "source": [
    "Q1_list = vals[vals['Q'] == '1']"
   ]
  },
  {
   "cell_type": "code",
   "execution_count": 192,
   "metadata": {},
   "outputs": [
    {
     "data": {
      "text/plain": [
       "26"
      ]
     },
     "execution_count": 192,
     "metadata": {},
     "output_type": "execute_result"
    }
   ],
   "source": [
    "len(Q1_list.index)"
   ]
  },
  {
   "cell_type": "code",
   "execution_count": 193,
   "metadata": {},
   "outputs": [
    {
     "data": {
      "text/plain": [
       "25"
      ]
     },
     "execution_count": 193,
     "metadata": {},
     "output_type": "execute_result"
    }
   ],
   "source": [
    "Q2_list = vals[vals['Q'] == '2']\n",
    "len(Q2_list.index)"
   ]
  },
  {
   "cell_type": "code",
   "execution_count": 194,
   "metadata": {},
   "outputs": [
    {
     "data": {
      "text/plain": [
       "24"
      ]
     },
     "execution_count": 194,
     "metadata": {},
     "output_type": "execute_result"
    }
   ],
   "source": [
    "Q3_list = vals[vals['Q'] == '3']\n",
    "len(Q3_list.index)"
   ]
  },
  {
   "cell_type": "code",
   "execution_count": 195,
   "metadata": {},
   "outputs": [
    {
     "data": {
      "text/plain": [
       "25"
      ]
     },
     "execution_count": 195,
     "metadata": {},
     "output_type": "execute_result"
    }
   ],
   "source": [
    "Q4_list = vals[vals['Q'] == '4']\n",
    "len(Q4_list.index)"
   ]
  },
  {
   "cell_type": "code",
   "execution_count": null,
   "metadata": {},
   "outputs": [],
   "source": []
  },
  {
   "cell_type": "markdown",
   "metadata": {},
   "source": [
    "# Statistics for training set"
   ]
  },
  {
   "cell_type": "code",
   "execution_count": 133,
   "metadata": {},
   "outputs": [],
   "source": []
  },
  {
   "cell_type": "code",
   "execution_count": 196,
   "metadata": {},
   "outputs": [
    {
     "data": {
      "text/html": [
       "<div>\n",
       "<style scoped>\n",
       "    .dataframe tbody tr th:only-of-type {\n",
       "        vertical-align: middle;\n",
       "    }\n",
       "\n",
       "    .dataframe tbody tr th {\n",
       "        vertical-align: top;\n",
       "    }\n",
       "\n",
       "    .dataframe thead th {\n",
       "        text-align: right;\n",
       "    }\n",
       "</style>\n",
       "<table border=\"1\" class=\"dataframe\">\n",
       "  <thead>\n",
       "    <tr style=\"text-align: right;\">\n",
       "      <th></th>\n",
       "      <th>train</th>\n",
       "      <th>Q</th>\n",
       "      <th>songID</th>\n",
       "    </tr>\n",
       "  </thead>\n",
       "  <tbody>\n",
       "    <tr>\n",
       "      <th>0</th>\n",
       "      <td>3.uj3Gif77SYM</td>\n",
       "      <td>3</td>\n",
       "      <td>uj3Gif77SYM</td>\n",
       "    </tr>\n",
       "    <tr>\n",
       "      <th>1</th>\n",
       "      <td>2.sEQf5lcnj_o</td>\n",
       "      <td>2</td>\n",
       "      <td>sEQf5lcnj_o</td>\n",
       "    </tr>\n",
       "    <tr>\n",
       "      <th>2</th>\n",
       "      <td>2.jIKX3ShvLxo</td>\n",
       "      <td>2</td>\n",
       "      <td>jIKX3ShvLxo</td>\n",
       "    </tr>\n",
       "    <tr>\n",
       "      <th>3</th>\n",
       "      <td>2.Ie5koh4qvJc_</td>\n",
       "      <td>2</td>\n",
       "      <td>Ie5koh4qvJc_</td>\n",
       "    </tr>\n",
       "    <tr>\n",
       "      <th>4</th>\n",
       "      <td>2.sEQf5lcnj_o</td>\n",
       "      <td>2</td>\n",
       "      <td>sEQf5lcnj_o</td>\n",
       "    </tr>\n",
       "  </tbody>\n",
       "</table>\n",
       "</div>"
      ],
      "text/plain": [
       "            train  Q        songID\n",
       "0   3.uj3Gif77SYM  3   uj3Gif77SYM\n",
       "1   2.sEQf5lcnj_o  2   sEQf5lcnj_o\n",
       "2   2.jIKX3ShvLxo  2   jIKX3ShvLxo\n",
       "3  2.Ie5koh4qvJc_  2  Ie5koh4qvJc_\n",
       "4   2.sEQf5lcnj_o  2   sEQf5lcnj_o"
      ]
     },
     "execution_count": 196,
     "metadata": {},
     "output_type": "execute_result"
    }
   ],
   "source": [
    "with open('./representations/train_fn2idx_map_2.json') as f:\n",
    "    files = json.load(f)\n",
    "    \n",
    "dd_t = {'train' :list(files['fn2idx'].keys())}\n",
    "train_data = pd.DataFrame(dd_t)\n",
    "\n",
    "def _clean(ID):\n",
    "    return ID[1] + '.' + ID[3:-2]\n",
    "\n",
    "train_data['train'] = train_data.apply(lambda x:_clean(x.train), axis = 1)\n",
    "train_data[['Q','songID']] = train_data.train.str.split(\".\",expand=True)\n",
    "train_data.head()"
   ]
  },
  {
   "cell_type": "code",
   "execution_count": 197,
   "metadata": {},
   "outputs": [
    {
     "data": {
      "text/plain": [
       "213"
      ]
     },
     "execution_count": 197,
     "metadata": {},
     "output_type": "execute_result"
    }
   ],
   "source": [
    "Q1_list = train_data[train_data['Q'] == '1']\n",
    "len(Q1_list.index)"
   ]
  },
  {
   "cell_type": "code",
   "execution_count": 198,
   "metadata": {},
   "outputs": [
    {
     "data": {
      "text/plain": [
       "228"
      ]
     },
     "execution_count": 198,
     "metadata": {},
     "output_type": "execute_result"
    }
   ],
   "source": [
    "Q2_list = train_data[train_data['Q'] == '2']\n",
    "len(Q2_list.index)"
   ]
  },
  {
   "cell_type": "code",
   "execution_count": 199,
   "metadata": {},
   "outputs": [
    {
     "data": {
      "text/plain": [
       "220"
      ]
     },
     "execution_count": 199,
     "metadata": {},
     "output_type": "execute_result"
    }
   ],
   "source": [
    "Q3_list = train_data[train_data['Q'] == '3']\n",
    "len(Q3_list.index)"
   ]
  },
  {
   "cell_type": "code",
   "execution_count": 200,
   "metadata": {},
   "outputs": [
    {
     "data": {
      "text/plain": [
       "282"
      ]
     },
     "execution_count": 200,
     "metadata": {},
     "output_type": "execute_result"
    }
   ],
   "source": [
    "Q4_list = train_data[train_data['Q'] == '4']\n",
    "len(Q4_list.index)"
   ]
  },
  {
   "cell_type": "code",
   "execution_count": 201,
   "metadata": {},
   "outputs": [
    {
     "data": {
      "text/plain": [
       "0.11737089201877934"
      ]
     },
     "execution_count": 201,
     "metadata": {},
     "output_type": "execute_result"
    }
   ],
   "source": [
    "25/213"
   ]
  },
  {
   "cell_type": "code",
   "execution_count": 202,
   "metadata": {},
   "outputs": [
    {
     "data": {
      "text/plain": [
       "0.10964912280701754"
      ]
     },
     "execution_count": 202,
     "metadata": {},
     "output_type": "execute_result"
    }
   ],
   "source": [
    "25/228"
   ]
  },
  {
   "cell_type": "code",
   "execution_count": 203,
   "metadata": {},
   "outputs": [
    {
     "data": {
      "text/plain": [
       "0.10909090909090909"
      ]
     },
     "execution_count": 203,
     "metadata": {},
     "output_type": "execute_result"
    }
   ],
   "source": [
    "24/220"
   ]
  },
  {
   "cell_type": "code",
   "execution_count": 204,
   "metadata": {},
   "outputs": [
    {
     "data": {
      "text/plain": [
       "0.08865248226950355"
      ]
     },
     "execution_count": 204,
     "metadata": {},
     "output_type": "execute_result"
    }
   ],
   "source": [
    "25/282"
   ]
  },
  {
   "cell_type": "code",
   "execution_count": null,
   "metadata": {},
   "outputs": [],
   "source": []
  }
 ],
 "metadata": {
  "kernelspec": {
   "display_name": "Python 3",
   "language": "python",
   "name": "python3"
  },
  "language_info": {
   "codemirror_mode": {
    "name": "ipython",
    "version": 3
   },
   "file_extension": ".py",
   "mimetype": "text/x-python",
   "name": "python",
   "nbconvert_exporter": "python",
   "pygments_lexer": "ipython3",
   "version": "3.6.10"
  }
 },
 "nbformat": 4,
 "nbformat_minor": 4
}
