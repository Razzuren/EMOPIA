{
 "cells": [
  {
   "metadata": {},
   "cell_type": "raw",
   "source": "",
   "id": "970c3acbcda597ec"
  },
  {
   "metadata": {},
   "cell_type": "code",
   "outputs": [],
   "execution_count": null,
   "source": "# Descobrindo o menor valor de w_ nos arquivos .txt\n",
   "id": "34115d0af43c794a"
  },
  {
   "metadata": {
    "ExecuteTime": {
     "end_time": "2025-03-19T05:05:36.542972Z",
     "start_time": "2025-03-19T05:05:30.488752Z"
    }
   },
   "cell_type": "code",
   "source": [
    "import os\n",
    "\n",
    "# Caminho da pasta que contém somente arquivos .txt\n",
    "folder_path = '../../midis/txt'\n",
    "\n",
    "# Lista para armazenar os valores extraídos de w_XXX\n",
    "w_values = []\n",
    "\n",
    "for filename in os.listdir(folder_path):\n",
    "    # Considera somente arquivos que terminam com .txt\n",
    "    if filename.endswith('.txt'):\n",
    "        file_path = os.path.join(folder_path, filename)\n",
    "\n",
    "        with open(file_path, 'r', encoding='utf-8') as f:\n",
    "            lines = f.read().splitlines()\n",
    "            for line in lines:\n",
    "                # Quebra a linha em tokens\n",
    "                tokens = line.strip().split()\n",
    "                if not tokens:\n",
    "                    # Linha vazia, pula\n",
    "                    continue\n",
    "                # Pega o último token\n",
    "                last_token = tokens[-1]\n",
    "\n",
    "                # Verifica se ele começa com w_\n",
    "                if last_token.startswith('w_'):\n",
    "                    try:\n",
    "                        # Separa em [\"w\", valor] e converte o valor para inteiro\n",
    "                        w_value = int(last_token.split('_')[1])\n",
    "                        w_values.append(w_value)\n",
    "                    except ValueError:\n",
    "                        # Se não for possível converter, apenas ignora\n",
    "                        pass\n",
    "\n",
    "# Calcula o menor valor de w_ encontrado\n",
    "if w_values:\n",
    "    threshold = min(w_values)\n",
    "    print(f\"O menor valor encontrado de w_ é: {threshold}\")\n",
    "    print(\"Use esse valor como seu threshold para remover tokens w_ acima disso.\")\n",
    "else:\n",
    "    print(\"Não foram encontrados tokens w_ nos arquivos desta pasta.\")"
   ],
   "id": "7e2f7c0c957be796",
   "outputs": [
    {
     "name": "stdout",
     "output_type": "stream",
     "text": [
      "O menor valor encontrado de w_ é: 130\n",
      "Use esse valor como seu threshold para remover tokens w_ acima disso.\n"
     ]
    }
   ],
   "execution_count": 2
  },
  {
   "metadata": {},
   "cell_type": "code",
   "outputs": [],
   "execution_count": null,
   "source": "",
   "id": "8b41f295bcaa7768"
  }
 ],
 "metadata": {
  "kernelspec": {
   "display_name": "Python 3",
   "language": "python",
   "name": "python3"
  },
  "language_info": {
   "codemirror_mode": {
    "name": "ipython",
    "version": 2
   },
   "file_extension": ".py",
   "mimetype": "text/x-python",
   "name": "python",
   "nbconvert_exporter": "python",
   "pygments_lexer": "ipython2",
   "version": "2.7.6"
  }
 },
 "nbformat": 4,
 "nbformat_minor": 5
}
